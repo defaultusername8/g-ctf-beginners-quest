{
 "cells": [
  {
   "cell_type": "markdown",
   "id": "3e5a9281-4f7f-40fe-9ea9-c44260f9f690",
   "metadata": {},
   "source": [
    "https://capturetheflag.withgoogle.com/beginners-quest"
   ]
  },
  {
   "cell_type": "code",
   "execution_count": 18,
   "id": "24524da1-0124-4266-9759-735fffa1a0cf",
   "metadata": {},
   "outputs": [
    {
     "name": "stdout",
     "output_type": "stream",
     "text": [
      "shift 0: naljnl, pnrfne jnf n fxvyyrq pbzzhavpngbe, naq ur hfrq n inevrgl bs zrgubqf gb xrrc uvf zrffntrf frperg sebz uvf rarzvrf. bar bs gurfr zrgubqf jnf gur pnrfne pvcure, n fvzcyr grpuavdhr gb boshfpngr pbzzhavpngvbaf. synt{ebgngr_gung_nycunorg}\n",
      "shift 1: obmkom, qosgof kog o gywzzsr qcaaibwqohcf, obr vs igsr o jofwshm ct ashvcrg hc yssd vwg asggousg gsqfsh tfca vwg sbsawsg. cbs ct hvsgs ashvcrg kog hvs qosgof qwdvsf, o gwadzs hsqvbweis hc cptigqohs qcaaibwqohwcbg. tzou{fchohs_hvoh_ozdvopsh}\n",
      "shift 2: pcnlpn, rpthpg lph p hzxaats rdbbjcxrpidg, pcs wt jhts p kpgxtin du btiwdsh id ztte wxh bthhpvth htrgti ugdb wxh tctbxth. dct du iwtht btiwdsh lph iwt rpthpg rxewtg, p hxbeat itrwcxfjt id dqujhrpit rdbbjcxrpixdch. uapv{gdipit_iwpi_paewpqti}\n",
      "shift 3: qdomqo, squiqh mqi q iaybbut secckdysqjeh, qdt xu kiut q lqhyujo ev cujxeti je auuf xyi cuiiqwui iushuj vhec xyi uducyui. edu ev jxuiu cujxeti mqi jxu squiqh syfxuh, q iycfbu jusxdygku je ervkisqju secckdysqjyedi. vbqw{hejqju_jxqj_qbfxqruj}\n",
      "shift 4: repnrp, trvjri nrj r jbzccvu tfddleztrkfi, reu yv ljvu r mrizvkp fw dvkyfuj kf bvvg yzj dvjjrxvj jvtivk wifd yzj vevdzvj. fev fw kyvjv dvkyfuj nrj kyv trvjri tzgyvi, r jzdgcv kvtyezhlv kf fswljtrkv tfddleztrkzfej. wcrx{ifkrkv_kyrk_rcgyrsvk}\n",
      "shift 5: sfqosq, uswksj osk s kcaddwv ugeemfauslgj, sfv zw mkwv s nsjawlq gx ewlzgvk lg cwwh zak ewkksywk kwujwl xjge zak wfweawk. gfw gx lzwkw ewlzgvk osk lzw uswksj uahzwj, s kaehdw lwuzfaimw lg gtxmkuslw ugeemfauslagfk. xdsy{jglslw_lzsl_sdhzstwl}\n",
      "shift 6: tgrptr, vtxltk ptl t ldbeexw vhffngbvtmhk, tgw ax nlxw t otkbxmr hy fxmahwl mh dxxi abl fxlltzxl lxvkxm ykhf abl xgxfbxl. hgx hy maxlx fxmahwl ptl max vtxltk vbiaxk, t lbfiex mxvagbjnx mh huynlvtmx vhffngbvtmbhgl. yetz{khmtmx_matm_teiatuxm}\n",
      "shift 7: uhsqus, wuymul qum u mecffyx wiggohcwunil, uhx by omyx u pulcyns iz gynbixm ni eyyj bcm gymmuaym mywlyn zlig bcm yhygcym. ihy iz nbymy gynbixm qum nby wuymul wcjbyl, u mcgjfy nywbhckoy ni ivzomwuny wiggohcwuncihm. zfua{linuny_nbun_ufjbuvyn}\n",
      "shift 8: vitrvt, xvznvm rvn v nfdggzy xjhhpidxvojm, viy cz pnzy v qvmdzot ja hzocjyn oj fzzk cdn hznnvbzn nzxmzo amjh cdn zizhdzn. jiz ja ocznz hzocjyn rvn ocz xvznvm xdkczm, v ndhkgz ozxcidlpz oj jwapnxvoz xjhhpidxvodjin. agvb{mjovoz_ocvo_vgkcvwzo}\n",
      "shift 9: wjuswu, ywaown swo w ogehhaz ykiiqjeywpkn, wjz da qoaz w rwneapu kb iapdkzo pk gaal deo iaoowcao oaynap bnki deo ajaieao. kja kb pdaoa iapdkzo swo pda ywaown yeldan, w oeilha paydjemqa pk kxbqoywpa ykiiqjeywpekjo. bhwc{nkpwpa_pdwp_whldwxap}\n",
      "shift 10: xkvtxv, zxbpxo txp x phfiiba zljjrkfzxqlo, xka eb rpba x sxofbqv lc jbqelap ql hbbm efp jbppxdbp pbzobq colj efp bkbjfbp. lkb lc qebpb jbqelap txp qeb zxbpxo zfmebo, x pfjmib qbzekfnrb ql lycrpzxqb zljjrkfzxqflkp. cixd{olqxqb_qexq_ximexybq}\n",
      "shift 11: ylwuyw, aycqyp uyq y qigjjcb amkkslgayrmp, ylb fc sqcb y typgcrw md kcrfmbq rm iccn fgq kcqqyecq qcapcr dpmk fgq clckgcq. mlc md rfcqc kcrfmbq uyq rfc aycqyp agnfcp, y qgknjc rcaflgosc rm mzdsqayrc amkkslgayrgmlq. djye{pmryrc_rfyr_yjnfyzcr}\n",
      "shift 12: zmxvzx, bzdrzq vzr z rjhkkdc bnlltmhbzsnq, zmc gd trdc z uzqhdsx ne ldsgncr sn jddo ghr ldrrzfdr rdbqds eqnl ghr dmdlhdr. nmd ne sgdrd ldsgncr vzr sgd bzdrzq bhogdq, z rhlokd sdbgmhptd sn naetrbzsd bnlltmhbzshnmr. ekzf{qnszsd_sgzs_zkogzads}\n",
      "shift 13: anyway, caesar was a skilled communicator, and he used a variety of methods to keep his messages secret from his enemies. one of these methods was the caesar cipher, a simple technique to obfuscate communications. flag{rotate_that_alphabet}\n",
      "shift 14: bozxbz, dbftbs xbt b tljmmfe dpnnvojdbups, boe if vtfe b wbsjfuz pg nfuipet up lffq ijt nfttbhft tfdsfu gspn ijt fofnjft. pof pg uiftf nfuipet xbt uif dbftbs djqifs, b tjnqmf ufdiojrvf up pcgvtdbuf dpnnvojdbujpot. gmbh{spubuf_uibu_bmqibcfu}\n",
      "shift 15: cpayca, ecguct ycu c umknngf eqoowpkecvqt, cpf jg wugf c xctkgva qh ogvjqfu vq mggr jku oguucigu ugetgv htqo jku gpgokgu. qpg qh vjgug ogvjqfu ycu vjg ecguct ekrjgt, c ukorng vgejpkswg vq qdhwuecvg eqoowpkecvkqpu. hnci{tqvcvg_vjcv_cnrjcdgv}\n",
      "shift 16: dqbzdb, fdhvdu zdv d vnloohg frppxqlfdwru, dqg kh xvhg d ydulhwb ri phwkrgv wr nhhs klv phvvdjhv vhfuhw iurp klv hqhplhv. rqh ri wkhvh phwkrgv zdv wkh fdhvdu flskhu, d vlpsoh whfkqltxh wr reixvfdwh frppxqlfdwlrqv. iodj{urwdwh_wkdw_doskdehw}\n",
      "shift 17: ercaec, geiwev aew e womppih gsqqyrmgexsv, erh li ywih e zevmixc sj qixlshw xs oiit lmw qiwwekiw wigvix jvsq lmw iriqmiw. sri sj xliwi qixlshw aew xli geiwev gmtliv, e wmqtpi xiglrmuyi xs sfjywgexi gsqqyrmgexmsrw. jpek{vsxexi_xlex_eptlefix}\n",
      "shift 18: fsdbfd, hfjxfw bfx f xpnqqji htrrzsnhfytw, fsi mj zxji f afwnjyd tk rjymtix yt pjju mnx rjxxfljx xjhwjy kwtr mnx jsjrnjx. tsj tk ymjxj rjymtix bfx ymj hfjxfw hnumjw, f xnruqj yjhmsnvzj yt tgkzxhfyj htrrzsnhfyntsx. kqfl{wtyfyj_ymfy_fqumfgjy}\n",
      "shift 19: gtecge, igkygx cgy g yqorrkj iussatoigzux, gtj nk aykj g bgxokze ul skznujy zu qkkv noy skyygmky ykixkz lxus noy ktksoky. utk ul znkyk skznujy cgy znk igkygx iovnkx, g yosvrk zkintowak zu uhlayigzk iussatoigzouty. lrgm{xuzgzk_zngz_grvnghkz}\n",
      "shift 20: hufdhf, jhlzhy dhz h zrpsslk jvttbupjhavy, huk ol bzlk h chyplaf vm tlaovkz av rllw opz tlzzhnlz zljyla myvt opz lultplz. vul vm aolzl tlaovkz dhz aol jhlzhy jpwoly, h zptwsl aljoupxbl av vimbzjhal jvttbupjhapvuz. mshn{yvahal_aoha_hswohila}\n",
      "shift 21: ivgeig, kimaiz eia i asqttml kwuucvqkibwz, ivl pm caml i dizqmbg wn umbpwla bw smmx pqa umaaioma amkzmb nzwu pqa mvmuqma. wvm wn bpmam umbpwla eia bpm kimaiz kqxpmz, i aquxtm bmkpvqycm bw wjncakibm kwuucvqkibqwva. ntio{zwbibm_bpib_itxpijmb}\n",
      "shift 22: jwhfjh, ljnbja fjb j btruunm lxvvdwrljcxa, jwm qn dbnm j ejarnch xo vncqxmb cx tnny qrb vnbbjpnb bnlanc oaxv qrb nwnvrnb. xwn xo cqnbn vncqxmb fjb cqn ljnbja lryqna, j brvyun cnlqwrzdn cx xkodbljcn lxvvdwrljcrxwb. oujp{axcjcn_cqjc_juyqjknc}\n",
      "shift 23: kxigki, mkockb gkc k cusvvon mywwexsmkdyb, kxn ro econ k fkbsodi yp wodrync dy uooz rsc wocckqoc combod pbyw rsc oxowsoc. yxo yp droco wodrync gkc dro mkockb mszrob, k cswzvo domrxsaeo dy ylpecmkdo mywwexsmkdsyxc. pvkq{bydkdo_drkd_kvzrklod}\n",
      "shift 24: lyjhlj, nlpdlc hld l dvtwwpo nzxxfytnlezc, lyo sp fdpo l glctpej zq xpeszod ez vppa std xpddlrpd dpncpe qczx std pypxtpd. zyp zq espdp xpeszod hld esp nlpdlc ntaspc, l dtxawp epnsytbfp ez zmqfdnlep nzxxfytnletzyd. qwlr{czelep_esle_lwaslmpe}\n"
     ]
    }
   ],
   "source": [
    "cipher = \"Naljnl, Pnrfne jnf n fxvyyrq pbzzhavpngbe, naq ur hfrq n inevrgl bs zrgubqf gb xrrc uvf zrffntrf frperg sebz uvf rarzvrf. Bar bs gurfr zrgubqf jnf gur Pnrfne pvcure, n fvzcyr grpuavdhr gb boshfpngr pbzzhavpngvbaf. SYNT{ebgngr_gung_nycunorg}\";\n",
    "cipher = cipher.lower()\n",
    "asciiA = 96;\n",
    "asciiZ = 122;\n",
    "\n",
    "for index in range(0,25):\n",
    "    result = f'shift {index}: '\n",
    "    for ch in cipher:\n",
    "        if ord(ch) < asciiA or ord(ch) > asciiZ:\n",
    "            result += ch\n",
    "            continue\n",
    "        numCh = ord(ch) + index\n",
    "        if numCh > asciiZ:\n",
    "            numCh = asciiA + (numCh - asciiZ)\n",
    "        result += chr(numCh)\n",
    "    print(result)\n"
   ]
  },
  {
   "cell_type": "code",
   "execution_count": null,
   "id": "b1202341-471e-4f04-9540-b0165f5ca617",
   "metadata": {},
   "outputs": [],
   "source": []
  }
 ],
 "metadata": {
  "kernelspec": {
   "display_name": "Python 3 (ipykernel)",
   "language": "python",
   "name": "python3"
  },
  "language_info": {
   "codemirror_mode": {
    "name": "ipython",
    "version": 3
   },
   "file_extension": ".py",
   "mimetype": "text/x-python",
   "name": "python",
   "nbconvert_exporter": "python",
   "pygments_lexer": "ipython3",
   "version": "3.12.0"
  }
 },
 "nbformat": 4,
 "nbformat_minor": 5
}
