{
 "cells": [
  {
   "cell_type": "markdown",
   "id": "3e5a9281-4f7f-40fe-9ea9-c44260f9f690",
   "metadata": {},
   "source": [
    "https://capturetheflag.withgoogle.com/beginners-quest"
   ]
  },
  {
   "cell_type": "markdown",
   "id": "a308368b-0bf5-4081-a823-c42b857e2786",
   "metadata": {},
   "source": [
    "Enter the ciphertext:"
   ]
  },
  {
   "cell_type": "code",
   "execution_count": 9,
   "id": "a0ced95d-6247-4bd0-b14a-fa1ff42774bf",
   "metadata": {},
   "outputs": [
    {
     "name": "stdin",
     "output_type": "stream",
     "text": [
      " Caesar lalala\n"
     ]
    }
   ],
   "source": [
    "cipher = input()\n",
    "# Naljnl, Pnrfne jnf n fxvyyrq pbzzhavpngbe, naq ur hfrq n inevrgl bs zrgubqf gb xrrc uvf zrffntrf frperg sebz uvf rarzvrf. Bar bs gurfr zrgubqf jnf gur Pnrfne pvcure, n fvzcyr grpuavdhr gb boshfpngr pbzzhavpngvbaf. SYNT{ebgngr_gung_nycunorg}"
   ]
  },
  {
   "cell_type": "code",
   "execution_count": 10,
   "id": "24524da1-0124-4266-9759-735fffa1a0cf",
   "metadata": {},
   "outputs": [
    {
     "name": "stdout",
     "output_type": "stream",
     "text": [
      "shift 0: caesar lalala\n",
      "shift 1: dbftbs mbmbmb\n",
      "shift 2: ecguct ncncnc\n",
      "shift 3: fdhvdu ododod\n",
      "shift 4: geiwev pepepe\n",
      "shift 5: hfjxfw qfqfqf\n",
      "shift 6: igkygx rgrgrg\n",
      "shift 7: jhlzhy shshsh\n",
      "shift 8: kimaiz tititi\n",
      "shift 9: ljnbja ujujuj\n",
      "shift 10: mkockb vkvkvk\n",
      "shift 11: nlpdlc wlwlwl\n",
      "shift 12: omqemd xmxmxm\n",
      "shift 13: pnrfne ynynyn\n",
      "shift 14: qosgof zozozo\n",
      "shift 15: rpthpg apapap\n",
      "shift 16: squiqh bqbqbq\n",
      "shift 17: trvjri crcrcr\n",
      "shift 18: uswksj dsdsds\n",
      "shift 19: vtxltk etetet\n",
      "shift 20: wuymul fufufu\n",
      "shift 21: xvznvm gvgvgv\n",
      "shift 22: ywaown hwhwhw\n",
      "shift 23: zxbpxo ixixix\n",
      "shift 24: aycqyp jyjyjy\n"
     ]
    }
   ],
   "source": [
    "cipher = cipher.lower()\n",
    "asciiA = 96;\n",
    "asciiZ = 122;\n",
    "\n",
    "for index in range(0,25):\n",
    "    result = f'shift {index}: '\n",
    "    for ch in cipher:\n",
    "        if ord(ch) < asciiA or ord(ch) > asciiZ:\n",
    "            result += ch\n",
    "            continue\n",
    "        numCh = ord(ch) + index\n",
    "        if numCh > asciiZ:\n",
    "            numCh = asciiA + (numCh - asciiZ)\n",
    "        result += chr(numCh)\n",
    "    print(result)\n"
   ]
  },
  {
   "cell_type": "code",
   "execution_count": null,
   "id": "b1202341-471e-4f04-9540-b0165f5ca617",
   "metadata": {},
   "outputs": [],
   "source": []
  }
 ],
 "metadata": {
  "kernelspec": {
   "display_name": "Python 3 (ipykernel)",
   "language": "python",
   "name": "python3"
  },
  "language_info": {
   "codemirror_mode": {
    "name": "ipython",
    "version": 3
   },
   "file_extension": ".py",
   "mimetype": "text/x-python",
   "name": "python",
   "nbconvert_exporter": "python",
   "pygments_lexer": "ipython3",
   "version": "3.12.0"
  }
 },
 "nbformat": 4,
 "nbformat_minor": 5
}
